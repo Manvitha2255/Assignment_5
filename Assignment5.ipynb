{
  "nbformat": 4,
  "nbformat_minor": 0,
  "metadata": {
    "colab": {
      "provenance": [],
      "authorship_tag": "ABX9TyNMyB8t//rOqf7zsCubpLOb",
      "include_colab_link": true
    },
    "kernelspec": {
      "name": "python3",
      "display_name": "Python 3"
    },
    "language_info": {
      "name": "python"
    }
  },
  "cells": [
    {
      "cell_type": "markdown",
      "metadata": {
        "id": "view-in-github",
        "colab_type": "text"
      },
      "source": [
        "<a href=\"https://colab.research.google.com/github/Manvitha2255/Assignment_5/blob/main/Assignment5.ipynb\" target=\"_parent\"><img src=\"https://colab.research.google.com/assets/colab-badge.svg\" alt=\"Open In Colab\"/></a>"
      ]
    },
    {
      "cell_type": "code",
      "execution_count": 1,
      "metadata": {
        "colab": {
          "base_uri": "https://localhost:8080/"
        },
        "id": "wur7_r9U0a9j",
        "outputId": "ed9560a3-1549-4c6e-82b5-f59831c96d51"
      },
      "outputs": [
        {
          "output_type": "stream",
          "name": "stdout",
          "text": [
            "The result of the quadratic equation is: 345.5\n"
          ]
        }
      ],
      "source": [
        "a = 0.5\n",
        "b = 1.2\n",
        "c = 3.0\n",
        "x = 25\n",
        "\n",
        "y = a * x**2 + b * x + c\n",
        "print(f\"The result of the quadratic equation is: {y}\")\n"
      ]
    },
    {
      "cell_type": "code",
      "source": [
        "a = float(input(\"Enter value for a: \"))\n",
        "b = float(input(\"Enter value for b: \"))\n",
        "c = float(input(\"Enter value for c: \"))\n",
        "x = float(input(\"Enter value for x (e.g., temperature): \"))\n",
        "\n",
        "y = a * x**2 + b * x + c\n",
        "print(f\"The result of the quadratic equation is: {y}\")\n"
      ],
      "metadata": {
        "colab": {
          "base_uri": "https://localhost:8080/"
        },
        "id": "g4VaDDYc00v1",
        "outputId": "1fad68be-2606-4d13-b61c-8223b2da51ae"
      },
      "execution_count": 2,
      "outputs": [
        {
          "output_type": "stream",
          "name": "stdout",
          "text": [
            "Enter value for a: 3\n",
            "Enter value for b: 2\n",
            "Enter value for c: 1\n",
            "Enter value for x (e.g., temperature): 25\n",
            "The result of the quadratic equation is: 1926.0\n"
          ]
        }
      ]
    },
    {
      "cell_type": "code",
      "source": [
        "filename = 'weather_data.txt'\n",
        "\n",
        "with open(filename, 'w') as file:\n",
        "    file.write(\"0.5 1.2 3.0 25\\n\")\n",
        "    file.write(\"0.4 1.0 2.5 20\\n\")\n",
        "    file.write(\"0.6 1.1 2.8 30\\n\")\n",
        "\n",
        "with open(filename, 'r') as file:\n",
        "    for line in file:\n",
        "        a, b, c, x = map(float, line.split())\n",
        "        y = a * x**2 + b * x + c\n",
        "        print(f\"For x = {x}, the result is: {y}\")\n"
      ],
      "metadata": {
        "colab": {
          "base_uri": "https://localhost:8080/"
        },
        "id": "uBGAkpkc1gW5",
        "outputId": "2190072b-e6a6-4f19-e649-fef868cca52f"
      },
      "execution_count": 7,
      "outputs": [
        {
          "output_type": "stream",
          "name": "stdout",
          "text": [
            "For x = 25.0, the result is: 345.5\n",
            "For x = 20.0, the result is: 182.5\n",
            "For x = 30.0, the result is: 575.8\n"
          ]
        }
      ]
    },
    {
      "cell_type": "code",
      "source": [
        "def quadratic_weather_model(a, b, c, x):\n",
        "    return a * x**2 + b * x + c\n",
        "\n",
        "a = 0.5\n",
        "b = 1.2\n",
        "c = 3.0\n",
        "x = 25\n",
        "\n",
        "result = quadratic_weather_model(a, b, c, x)\n",
        "print(f\"The result for the given inputs is: {result}\")\n"
      ],
      "metadata": {
        "colab": {
          "base_uri": "https://localhost:8080/"
        },
        "id": "BJk-Sz1O1ruJ",
        "outputId": "128a84af-852d-460e-b72b-faa3519a351f"
      },
      "execution_count": 8,
      "outputs": [
        {
          "output_type": "stream",
          "name": "stdout",
          "text": [
            "The result for the given inputs is: 345.5\n"
          ]
        }
      ]
    },
    {
      "cell_type": "code",
      "source": [
        "def quadratic_weather_model(a, b, c, x):\n",
        "    return a * x**2 + b * x + c\n",
        "\n",
        "filename = 'weather_data.txt'\n",
        "\n",
        "with open(filename, 'r') as file:\n",
        "    for line in file:\n",
        "        a, b, c, x = map(float, line.split())\n",
        "        result = quadratic_weather_model(a, b, c, x)\n",
        "        print(f\"For x = {x}, the result is: {result}\")\n"
      ],
      "metadata": {
        "colab": {
          "base_uri": "https://localhost:8080/"
        },
        "id": "wxfFK9Oi1ynI",
        "outputId": "8e954552-1851-435a-c791-01c7de474cb1"
      },
      "execution_count": 9,
      "outputs": [
        {
          "output_type": "stream",
          "name": "stdout",
          "text": [
            "For x = 25.0, the result is: 345.5\n",
            "For x = 20.0, the result is: 182.5\n",
            "For x = 30.0, the result is: 575.8\n"
          ]
        }
      ]
    }
  ]
}